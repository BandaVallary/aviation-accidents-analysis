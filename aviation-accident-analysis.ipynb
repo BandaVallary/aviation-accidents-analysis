{
 "cells": [
  {
   "cell_type": "markdown",
   "id": "0b3a1954-604e-4777-886c-e2cd494f12a6",
   "metadata": {},
   "source": [
    "# Aviation Accidents Analysis - Phase 1 Project\n"
   ]
  },
  {
   "cell_type": "markdown",
   "id": "08322d33-8bd4-47aa-a6c8-43fa2054002b",
   "metadata": {},
   "source": [
    "## 1. Project Overview \n",
    "Your company is expanding in to new industries to diversify its portfolio. Specifically, they are interested in purchasing and operating airplanes for commercial and private enterprises, but do not know anything about the potential risks of aircraft. You are charged with determining which aircraft are the lowest risk for the company to start this new business endeavor. You must then translate your findings into actionable insights that the head of the new aviation division can use to help decide which aircraft to purchase.\n",
    "\n"
   ]
  },
  {
   "cell_type": "markdown",
   "id": "02b5a34e-60fc-4383-b510-957e2e7a456f",
   "metadata": {},
   "source": [
    "## 2. Defining the Question\n",
    "**Problem Statement :** *Determine which aircraft are the lowest risk for the company to purchase and operate, providing actionable insights for decision-making.*"
   ]
  },
  {
   "cell_type": "markdown",
   "id": "4954740d-7254-410c-b0e1-1a997317432a",
   "metadata": {},
   "source": [
    "### Understanding the Context and Data Relevance\n",
    "From our dataset, there are a few columns that can be used to determine the risk factor of each Make/Model.\n",
    "To determine risk, we can use variables such as:\n",
    "* Incident Frequency: Number of incidents per aircraft make/model.\n",
    "* Severity of Incidents: Categorized by total fatalities, serious injuries, minor injuries, and uninjured passengers.\n",
    "* Aircraft Damage: Types of damage recorded (e.g., destroyed, substantial, minor).\n",
    "* Phase of Flight: Common phases during which incidents occur (e.g., landing, takeoff).\n",
    "* Weather Conditions: Incidents correlated with different weather conditions.\n",
    "\n"
   ]
  },
  {
   "cell_type": "markdown",
   "id": "4a8ec5e1-dfe2-4414-b400-8ff5dbcfa8d8",
   "metadata": {},
   "source": [
    "### Data Understanding\n",
    "\n",
    "In this project, we will be working with a [Kaggle dataset](https://www.kaggle.com/datasets/khsamaha/aviation-accident-database-synopses/data) from the National Transportation Safety Board that includes aviation accident data from 1962 to 2023 about civil aviation accidents and selected incidents in the United States and international waters.\n",
    "\n",
    "The data is contained is two separate CSV files: \n",
    "1. `AviationData.csv`: each record represents data about an accident that occurred with attributes such ad date, Location etc...\n",
    "2. `USState_Codes.csv`: the state name and its associated abbreviation\n",
    "\n",
    "To answer our question, relevant columns include model, make, number of accidents/incidents and severity\n",
    "\n",
    "   "
   ]
  },
  {
   "cell_type": "markdown",
   "id": "272b63a8-6bda-46c7-9136-b2f23fee7d95",
   "metadata": {},
   "source": [
    "## 3. Reading the data"
   ]
  },
  {
   "cell_type": "code",
   "execution_count": null,
   "id": "d2eecaaf-8517-4184-b0b4-aef8d0643942",
   "metadata": {},
   "outputs": [],
   "source": [
    "#import the necessary libraries \n",
    "import pandas as pd\n",
    "import numpy as np\n",
    "import matplotlib.pyplot as plt\n",
    "import seaborn as sns\n",
    "%matplotlib inline"
   ]
  },
  {
   "cell_type": "code",
   "execution_count": null,
   "id": "217913b2-b6b8-42a7-883f-16c4fb706c21",
   "metadata": {},
   "outputs": [],
   "source": [
    "#load data into a dataframe\n",
    "pd.set_option('display.max_columns', None)\n",
    "df = pd.read_csv('AviationData.csv', encoding= 'latin1', low_memory = False)\n",
    "\n",
    "#preview top 5 records of the dataset\n",
    "df.head()"
   ]
  },
  {
   "cell_type": "code",
   "execution_count": null,
   "id": "444a1b26-465a-4f99-9029-82d2715deeb4",
   "metadata": {},
   "outputs": [],
   "source": [
    "#loading the other dataset\n",
    "state_codes = pd.read_csv('USState_Codes.csv')\n",
    "state_codes.head()"
   ]
  },
  {
   "cell_type": "code",
   "execution_count": null,
   "id": "7e714ed6-5770-49fa-8bf2-a40b6c40a2ca",
   "metadata": {},
   "outputs": [],
   "source": [
    "#getting an overview of our data's structure and completeness i.e.,columns names, non-null counts and datatypes\n",
    "state_codes.info()"
   ]
  },
  {
   "cell_type": "markdown",
   "id": "12b632d3-0203-4408-9557-e2e11636b84b",
   "metadata": {},
   "source": [
    "Given the large number of columns available in our dataset, I will not be using all of them in this analysis. Therefore, I select the relevant ones and store them in a new dataframe."
   ]
  },
  {
   "cell_type": "code",
   "execution_count": null,
   "id": "47cebbf9-86b0-4af8-9ad0-c641d7fb4460",
   "metadata": {},
   "outputs": [],
   "source": [
    "#select the columns relevant in answering our business question\n",
    "relevant_columns = ['Event.Id', 'Event.Date', 'Location','Investigation.Type', 'Injury.Severity', 'Aircraft.damage', 'Make', 'Model',  'Total.Fatal.Injuries',\n",
    "       'Total.Serious.Injuries', 'Total.Minor.Injuries', 'Total.Uninjured','Weather.Condition', 'Broad.phase.of.flight']\n",
    "aviation_data = df[relevant_columns]"
   ]
  },
  {
   "cell_type": "code",
   "execution_count": null,
   "id": "90fb8480-1002-464f-afd3-c70d18ca114c",
   "metadata": {},
   "outputs": [],
   "source": [
    "# Convert the 'Event.Date' column to datetime format\n",
    "aviation_data.loc[:, 'Event.Date'] = pd.to_datetime(aviation_data['Event.Date'])"
   ]
  },
  {
   "cell_type": "code",
   "execution_count": null,
   "id": "e8a0a49d-4c31-4f30-b7f5-9e1520284d38",
   "metadata": {},
   "outputs": [],
   "source": [
    "#getting an overview of our data's structure and completeness i.e.,columns names, non-null counts and datatypes\n",
    "aviation_data.info()"
   ]
  },
  {
   "cell_type": "code",
   "execution_count": null,
   "id": "8d7e58df-3470-498e-860a-9752fbc0aae4",
   "metadata": {
    "scrolled": true
   },
   "outputs": [],
   "source": [
    "#check for duplicates and drop them\n",
    "aviation_data = aviation_data.drop_duplicates()\n",
    "# aviation_data.shape"
   ]
  },
  {
   "cell_type": "code",
   "execution_count": null,
   "id": "dc33cafa-ec59-47f6-a864-f70e6d22a166",
   "metadata": {},
   "outputs": [],
   "source": [
    "#code for checking the number of missing values\n",
    "aviation_data.isna().sum()"
   ]
  },
  {
   "cell_type": "markdown",
   "id": "8786883b-c8b8-4a21-9cf4-6829a928e255",
   "metadata": {},
   "source": [
    "## 4. Tidying the Dataset"
   ]
  },
  {
   "cell_type": "markdown",
   "id": "ce52b981-8524-4bdf-a078-5250f34590e6",
   "metadata": {},
   "source": [
    "### **Question 1:** *What is the distribution of incidents per make/model of aircraft?*\n",
    "Our question is to identify which aircraft has the lowest risk.\n",
    "\n",
    "To determine which aircraft make/model combination have the lowest risk, we need to calculate the incident frequency for each and take the lowest value. \n"
   ]
  },
  {
   "cell_type": "markdown",
   "id": "33ca08a0-f3cf-456f-8309-fb056b887dec",
   "metadata": {},
   "source": [
    "The `Make` and `Model` columns contain 63 and 92 missing values respectively, which represents 0.07% & 0.1% of the total records respectively. For this \n",
    "Part, I am choosing to drop the null values as it ensures that the data remains complete without significantly impacting the dataset size.\n",
    "\n",
    "I thought about mapping the `Model` column to the `Make` column to extrapolate and fill `Models` where the `Makes` match. \n",
    "However, it is important to note that aircrafts can be the same make and different models. Therefore, this would have introduced a bias. "
   ]
  },
  {
   "cell_type": "code",
   "execution_count": null,
   "id": "ac29d2c3-f41a-4c38-ac64-e6502a2d76ff",
   "metadata": {},
   "outputs": [],
   "source": [
    "aviation_cleaned = aviation_data.dropna(subset = ['Make', 'Model'])\n",
    "# aviation_cleaned..head()"
   ]
  },
  {
   "cell_type": "code",
   "execution_count": null,
   "id": "6075795a-a753-4acd-93fb-ead1fef29fb4",
   "metadata": {},
   "outputs": [],
   "source": [
    "aviation_cleaned.shape"
   ]
  },
  {
   "cell_type": "markdown",
   "id": "3487f294-ad75-4421-82f5-7f7e3afe2782",
   "metadata": {},
   "source": [
    "Now using the `value_counts()` method, Let's check the distribution of data i.e., unique make and frequency of each."
   ]
  },
  {
   "cell_type": "code",
   "execution_count": null,
   "id": "34004bb2-6903-4cf1-b5aa-848fa2aedab9",
   "metadata": {
    "scrolled": true
   },
   "outputs": [],
   "source": [
    "# Number of incidents per model\n",
    "make_counts = aviation_cleaned['Make'].value_counts()\n",
    "make_counts"
   ]
  },
  {
   "cell_type": "markdown",
   "id": "fe28cbec-55b7-446e-afe4-ecd2e476365e",
   "metadata": {},
   "source": [
    "Now from what we can see, we notice that we have same Makes but different capitalization e.g., (`Cessna` & `CESSNA`, `PIPER` & `Piper`). I decided to convert all the Strings in the `Make` column into Capitalized case to ensure uniformity. Moreover, it is noted that  `Hawker beech`,`Hawker beechcraft corp.` & `Hawker beechcraft corporation` all which refer to the same make but treated differently in this case. So I will Unify them as well."
   ]
  },
  {
   "cell_type": "code",
   "execution_count": null,
   "id": "8bb45dfa-c67e-4f0f-a8b0-cdb6c1577f52",
   "metadata": {},
   "outputs": [],
   "source": [
    "#capitalize aviation makes to promote uniformity\n",
    "aviation_cleaned.loc[:, 'Make'] = aviation_cleaned['Make'].str.capitalize()\n",
    "\n",
    "#remove any trailing and leading spaces \n",
    "aviation_cleaned.loc[:, 'Make'] = aviation_cleaned['Make'].str.strip()\n"
   ]
  },
  {
   "cell_type": "code",
   "execution_count": null,
   "id": "6e1ec48e-fcaf-417f-b5f6-9b8bcb0020c1",
   "metadata": {},
   "outputs": [],
   "source": [
    "\n",
    "'''This line of code will replace all variations of 'Hawker beech' with 'Hawker beechcraft', including 'Hawker beechcraft corp.', 'Hawker beechcraft \n",
    "corporation', and any other variations in the 'Make' column of your DataFrame df. The regular expression r'Hawker\\s*beech.*' \n",
    "matches any string that starts with 'Hawker beech' followed by zero or more whitespace characters (\\s*) and any other characters (.*).'''\n",
    "\n",
    "# Replace variations of 'Hawker' and 'Hawker beech' with 'Hawker beechcraft'\n",
    "aviation_cleaned.loc[:, 'Make'] = aviation_cleaned['Make'].str.replace(r'(Hawker\\s*beech|Hawker|Beech|Hawker beachcraftcraft)', 'Hawker beechcraft', regex=True)\n",
    "\n",
    "\n"
   ]
  },
  {
   "cell_type": "markdown",
   "id": "ef164f4f-2134-473f-a693-35c1c3a8e281",
   "metadata": {},
   "source": [
    "While trying to plot the distribution of the `Make` column, I ran into an error `FutureWarning: use_inf_as_na option is deprecated and \n",
    "will be removed in a future version. Convert inf values to NaN before operating instead.` This is likely due to the Make column containing a large number of unique categories, which can make it difficult to visualize thus not producing a meaningful histogram/barplot.  Therefore, I decided to plot a sample of the whole, like the top 20."
   ]
  },
  {
   "cell_type": "code",
   "execution_count": null,
   "id": "0b035d60-243f-4346-8dd9-b8c703f34974",
   "metadata": {},
   "outputs": [],
   "source": [
    "aviation_cleaned.info()"
   ]
  },
  {
   "cell_type": "code",
   "execution_count": null,
   "id": "25252658-84b4-4d9a-be19-702d9d4e20a7",
   "metadata": {},
   "outputs": [],
   "source": [
    "# Count the number of incidents per make\n",
    "make_counts = aviation_cleaned['Make'].value_counts()"
   ]
  },
  {
   "cell_type": "code",
   "execution_count": null,
   "id": "c023a417-dc7e-441f-ac27-442456a2bad2",
   "metadata": {},
   "outputs": [],
   "source": [
    "# Let's get the top 20 makes to keep the plot readable\n",
    "low_make_counts = make_counts.tail(20)\n",
    "low_make_counts"
   ]
  },
  {
   "cell_type": "code",
   "execution_count": null,
   "id": "1d6991d3-9d5a-49e7-ba57-fbf4fdb0ce4a",
   "metadata": {},
   "outputs": [],
   "source": [
    "# Plot the bar plot for the top makes\n",
    "plt.figure(figsize=(12, 8))\n",
    "sns.barplot(x=low_make_counts.values, y=low_make_counts.index, palette='viridis')\n",
    "plt.title('Number of Incidents per Make of Aircraft(Bottom 20)')\n",
    "plt.xlabel('Number of Incidents')\n",
    "plt.ylabel('Make of Aircraft');\n",
    "\n"
   ]
  },
  {
   "cell_type": "markdown",
   "id": "42ace8f3-7643-4b94-a9cd-50d7da77cc98",
   "metadata": {},
   "source": [
    "From the above graph, we notice that each Make in the Lowest 20 has 1 incident. From this alone, we cannot determine which would be the lower risk. "
   ]
  },
  {
   "cell_type": "markdown",
   "id": "a44af251-40dc-4b5d-8319-3eba19b0751f",
   "metadata": {},
   "source": [
    "The `Model` column appears to be written in majorly uppercase. Just to be sure and ensure standardization, I am going to change every entry into uppercase by using the `str.upper()` method."
   ]
  },
  {
   "cell_type": "code",
   "execution_count": null,
   "id": "f3de7498-8b21-494e-a96c-057794ad40d6",
   "metadata": {},
   "outputs": [],
   "source": [
    "#capitalize aviation makes to promote uniformity\n",
    "aviation_cleaned.loc[:, 'Model'] = aviation_cleaned['Model'].str.upper()"
   ]
  },
  {
   "cell_type": "code",
   "execution_count": null,
   "id": "37a31250-ab7a-43f6-9a9b-60555cc8fabc",
   "metadata": {},
   "outputs": [],
   "source": [
    "#count number of incidents per aircraft model\n",
    "model_counts = aviation_cleaned['Model'].value_counts()\n",
    "#let's get the 20 most common models \n",
    "low_20_models = model_counts.tail(20)"
   ]
  },
  {
   "cell_type": "code",
   "execution_count": null,
   "id": "002e6fd7-6d6d-4e4f-9290-89da53da77f1",
   "metadata": {},
   "outputs": [],
   "source": [
    "# Plot the bar plot for the top makes\n",
    "plt.figure(figsize=(12, 8))\n",
    "sns.barplot(x=low_20_models.values, y=low_20_models.index, palette='viridis')\n",
    "plt.title('Number of Incidents per Model of Aircraft (Bottom 20)')\n",
    "plt.xlabel('Number of Incidents')\n",
    "plt.ylabel('Model of Aircraft');\n"
   ]
  },
  {
   "cell_type": "markdown",
   "id": "13907403-284a-432d-84ac-48e0a86d53e5",
   "metadata": {},
   "source": [
    "From the above graph, the bottom 20 Models have an incident frequency of 1. From this alone, we cannot determine which aircraft carries a lower risk. However, this combined with other factors might shed more light."
   ]
  },
  {
   "cell_type": "code",
   "execution_count": null,
   "id": "3b757e2f-651f-4ebc-bae6-95964ee48ba1",
   "metadata": {},
   "outputs": [],
   "source": [
    "#create a dataframe that stores incident counts. Include the Make and Model\n",
    "incident_counts = aviation_cleaned.groupby(['Make', 'Model']).size().reset_index(name='Incident.Count')\n",
    "\n",
    "# Display the top 10 aircraft with the highest incident count\n",
    "print(incident_counts.sort_values(by='Incident.Count', ascending=False).head(20))\n"
   ]
  },
  {
   "cell_type": "markdown",
   "id": "1f2364e4-3427-4016-97ef-621eef1bb545",
   "metadata": {},
   "source": [
    "Now let's visualize the number of incidents per make/model. And since we want the lowest risk i.e., with lower incidents, we will plot for the lowest 20. "
   ]
  },
  {
   "cell_type": "code",
   "execution_count": null,
   "id": "11dd9ab1-e3cd-4103-b348-e95987674adc",
   "metadata": {},
   "outputs": [],
   "source": [
    "# Sort by 'Incident Count' and select the lowest 20\n",
    "lowest_20_incidents = incident_counts.sort_values(by='Incident.Count').head(20)\n",
    "\n",
    "# Combine 'Make' and 'Model' into a single column for better visualization\n",
    "lowest_20_incidents['Make/Model'] = lowest_20_incidents['Make'] + ' ' + lowest_20_incidents['Model']\n",
    "\n",
    "# Plot the bar plot\n",
    "plt.figure(figsize=(12, 8))\n",
    "sns.barplot(x='Incident.Count', y='Make/Model', data=lowest_20_incidents, palette='viridis')\n",
    "plt.title('Number of Incidents per Make/Model of Aircraft (Lowest 20)')\n",
    "plt.xlabel('Number of Incidents')\n",
    "plt.ylabel('Make/Model of Aircraft')\n",
    "plt.xlim(0, 5);\n"
   ]
  },
  {
   "cell_type": "markdown",
   "id": "fa75b956-4f5b-4277-b195-5b52f941d80a",
   "metadata": {},
   "source": [
    "We notice that we have several Make/Model aircraft combinations have just 1 incident. This becomes difficult to select the lowest risk of them all as there is no way to differentiate them. \n"
   ]
  },
  {
   "cell_type": "markdown",
   "id": "2827fafa-ddc6-4d06-9b91-c89ebd1faded",
   "metadata": {},
   "source": [
    "### **Question 2:** *What is the Severity of Injuries per Make/Model ?*"
   ]
  },
  {
   "cell_type": "markdown",
   "id": "d808bacd-8a61-45a8-be6d-279a4bcc7e9b",
   "metadata": {},
   "source": [
    "We notice that unique entries in  the `Injury.Severity` column  are 109. \n",
    "Moreover, there are different variations of Fatal with number of fatalities enclosed e.g `Fatal(4).` These are all treated as separate and unique entries. So first, I decided to replace any value that has `Fatal ` to be in the same Category. \n",
    "Moreover, I Handle missing values by putting them into a different category, `Missing` to preserve the data."
   ]
  },
  {
   "cell_type": "code",
   "execution_count": null,
   "id": "17185c0c-d469-4f5d-8b12-1c2f714e9c15",
   "metadata": {},
   "outputs": [],
   "source": [
    "aviation_cleaned['Injury.Severity'].value_counts()"
   ]
  },
  {
   "cell_type": "code",
   "execution_count": null,
   "id": "6dbfe203-8be2-416d-90b4-ad94172fc02c",
   "metadata": {},
   "outputs": [],
   "source": [
    "# aviation_cleaned['Injury.Severity'].unique()"
   ]
  },
  {
   "cell_type": "code",
   "execution_count": null,
   "id": "579ae880-cbf6-4b0a-9f36-f3e8b46c3cbd",
   "metadata": {},
   "outputs": [],
   "source": [
    "aviation_cleaned.head()"
   ]
  },
  {
   "cell_type": "code",
   "execution_count": null,
   "id": "7763a40f-f950-42d6-be71-fb7539a1a190",
   "metadata": {},
   "outputs": [],
   "source": [
    "#using np.where to identify entries with `fatal()` and replace it with Fatal as it's category.\n",
    "#first create a copy of the dataframe\n",
    "aviation_cleaned_copy = aviation_cleaned.copy()\n",
    "\n",
    "#replace any value containing 'Fatal' to create a different category \n",
    "aviation_cleaned_copy['Injury.Severity'] = np.where(aviation_cleaned_copy['Injury.Severity'].str.contains('Fatal', na = False), 'Fatal' , aviation_cleaned_copy['Injury.Severity']) \n"
   ]
  },
  {
   "cell_type": "code",
   "execution_count": null,
   "id": "d1830f00-384b-49a6-9cdd-3dd2e44e1499",
   "metadata": {},
   "outputs": [],
   "source": [
    "# Notice that it has 979 missing values. Instead of dropping these values, I\n",
    "# decided to keep them and give them a class of their own 'Unkown'\n",
    "aviation_cleaned_copy['Injury.Severity'] = aviation_cleaned_copy['Injury.Severity'].fillna('Unknown')\n",
    "\n",
    "#preview data to check if changes have taken place\n",
    "aviation_cleaned_copy.head()\n"
   ]
  },
  {
   "cell_type": "code",
   "execution_count": null,
   "id": "81039fe2-90a0-4197-aa54-88069d2c225e",
   "metadata": {},
   "outputs": [],
   "source": [
    "aviation_cleaned_copy.isnull().sum()"
   ]
  },
  {
   "cell_type": "code",
   "execution_count": null,
   "id": "488d8f51-5469-4df8-92e0-6e471421abd9",
   "metadata": {},
   "outputs": [],
   "source": [
    "aviation_cleaned_copy['Injury.Severity'].value_counts()"
   ]
  },
  {
   "cell_type": "code",
   "execution_count": null,
   "id": "8c730d19-0f81-4126-8f69-4a0694fb3def",
   "metadata": {},
   "outputs": [],
   "source": [
    "# Plot the distribution of injury severity\n",
    "\n",
    "plt.figure(figsize=(12, 8))\n",
    "sns.countplot(data=aviation_cleaned_copy, x='Injury.Severity', palette='viridis')\n",
    "plt.title('Distribution of Injury Severity')\n",
    "plt.xlabel('Injury Severity')\n",
    "plt.ylabel('Count')\n",
    "plt.xticks(rotation=45);\n"
   ]
  },
  {
   "cell_type": "markdown",
   "id": "83c6355d-ebcb-4c80-bec7-db223d62818a",
   "metadata": {},
   "source": [
    "From the plot above, most aircraft accidents/incidents result in fatalities. \n",
    "Now, we need to investigate the Injury Severity per Make/Model."
   ]
  },
  {
   "cell_type": "code",
   "execution_count": null,
   "id": "e9b00f6a-f986-4013-9ab2-3b658dd823e6",
   "metadata": {},
   "outputs": [],
   "source": [
    "#plot graph to show injury severity per Make/Model. We will take the least 20 .\n",
    "\n",
    "plt.figure(figsize=(12,8))\n",
    "# Merge the two DataFrames on 'Make' and 'Model'\n",
    "merged_df = pd.merge(incident_counts, aviation_cleaned_copy, on=['Make', 'Model'])\n",
    "\n",
    "# Sort by 'Incident Count' and select the lowest 20\n",
    "lowest_20_incidents = merged_df.sort_values(by='Incident.Count').head(20)\n",
    "\n",
    "# Combine 'Make' and 'Model' into a single column for better visualization\n",
    "lowest_20_incidents['Make/Model'] = lowest_20_incidents['Make'] + ' ' + lowest_20_incidents['Model']\n",
    "\n",
    "# Plot the bar plot\n",
    "sns.barplot(x='Incident.Count', y='Make/Model',hue='Injury.Severity', data=lowest_20_incidents, palette='viridis');\n",
    "plt.title('Number of Incidents per Make/Model by Injury Severity of Aircraft (Lowest 20) ')\n",
    "plt.xlabel('Number of Incidents')\n",
    "plt.ylabel('Make/Model of Aircraft')\n",
    "plt.legend(title='Injury Severity');\n",
    "plt.xlim(0, 5);"
   ]
  },
  {
   "cell_type": "markdown",
   "id": "82aeb80b-13e2-4676-ac23-a408bfb2092c",
   "metadata": {},
   "source": [
    "From the above plot, we notice that aircrafts of that even in the lower 20 Incident counts, most incidents/accidents result in fatalities. \n",
    "However, we still have no way to narrow it down, as 13,906 Make/Model combinations have an incident frequency of 1."
   ]
  },
  {
   "cell_type": "code",
   "execution_count": null,
   "id": "5e04aa47-4b55-45b5-b9ee-91d9efd6bd91",
   "metadata": {},
   "outputs": [],
   "source": [
    "# low = merged_df[merged_df['Incident.Count'] == 1]\n",
    "# low.count()   #we have 13,906 Make/Model Combinations with an Incident Count of 1. How do we choose from this?"
   ]
  },
  {
   "cell_type": "markdown",
   "id": "59df9c60-18f6-4268-bf43-7a15e55add70",
   "metadata": {},
   "source": [
    "### **Question 3:** *What is the distribution of aircraft damage per Make/Model?*\n",
    "\n"
   ]
  },
  {
   "cell_type": "code",
   "execution_count": null,
   "id": "818b0c7c-214d-4843-8d81-2ab5d222847a",
   "metadata": {},
   "outputs": [],
   "source": [
    "aviation_cleaned_copy3 = aviation_cleaned_copy.copy()\n",
    "\n",
    "aviation_cleaned_copy3['Aircraft.damage'].unique() # from this, we notice that there are different categories for null and Unkown"
   ]
  },
  {
   "cell_type": "code",
   "execution_count": null,
   "id": "f72b82d8-a896-4ed3-a6cf-87c5b15eb80b",
   "metadata": {},
   "outputs": [],
   "source": [
    "#replace null values with 'Missing'\n",
    "aviation_cleaned_copy3['Aircraft.damage'] = aviation_cleaned_copy3['Aircraft.damage'].fillna('Missing')"
   ]
  },
  {
   "cell_type": "code",
   "execution_count": null,
   "id": "2cec37f2-9103-4646-a6c7-757855f25e50",
   "metadata": {},
   "outputs": [],
   "source": [
    "#plot distribution of aircraft damage\n",
    "\n",
    "plt.figure(figsize=(12, 8))\n",
    "sns.countplot(data=aviation_cleaned_copy3, x='Aircraft.damage', palette='viridis')\n",
    "plt.title('Distribution of Aircraft Damage')\n",
    "plt.xlabel('Aircraft Damage')\n",
    "plt.ylabel('Count');\n"
   ]
  },
  {
   "cell_type": "markdown",
   "id": "1c63d422-71d9-4a71-8eeb-aa1528cb167e",
   "metadata": {},
   "source": [
    "We notice that most aircrafts sustained `Substantial` damage in the event of an incident."
   ]
  },
  {
   "cell_type": "code",
   "execution_count": null,
   "id": "c76f20fc-d24f-41e9-8ea5-249b0eb78ab9",
   "metadata": {},
   "outputs": [],
   "source": [
    "#now plot the distribution of Aircraft damage per Make/Model\n",
    "\n",
    "\n",
    "plt.figure(figsize=(12,8))\n",
    "# Merge the two DataFrames on 'Make' and 'Model'\n",
    "merged_damage = pd.merge(incident_counts, aviation_cleaned_copy3, on=['Make', 'Model'])\n",
    "# Sort by 'Incident Count' and select the lowest 20\n",
    "lowest_20_incidents = merged_damage.sort_values(by='Incident.Count').head(20)\n",
    "\n",
    "# Combine 'Make' and 'Model' into a single column for better visualization\n",
    "lowest_20_incidents['Make/Model'] = lowest_20_incidents['Make'] + ' ' + lowest_20_incidents['Model']\n",
    "\n",
    "# Plot the bar plot\n",
    "sns.barplot(x='Incident.Count', y='Make/Model',hue='Aircraft.damage', data=lowest_20_incidents, palette='viridis');\n",
    "plt.title('Number of Incidents per Make/Model by Aircraft Damage of Aircraft (Lowest 20)')\n",
    "plt.xlabel('Number of Incidents')\n",
    "plt.ylabel('Make/Model of Aircraft')\n",
    "plt.legend(title='Aircraft Damage');\n",
    "plt.xlim(0, 5);\n"
   ]
  },
  {
   "cell_type": "code",
   "execution_count": null,
   "id": "526fd5cd-e0d9-4720-a622-00efdf5848e7",
   "metadata": {},
   "outputs": [],
   "source": []
  },
  {
   "cell_type": "markdown",
   "id": "accf108e-4469-4a46-a29e-9a35324b4d2f",
   "metadata": {},
   "source": [
    "### **Question 4:** *Distribution of which Phase of Flight Accidents/incidents commomly occur?*"
   ]
  },
  {
   "cell_type": "code",
   "execution_count": null,
   "id": "a532aa34-633f-4739-8ec7-28e25d46a9c2",
   "metadata": {},
   "outputs": [],
   "source": [
    "aviation_cleaned_copy4 = aviation_cleaned_copy3.copy()\n",
    "\n",
    "aviation_cleaned_copy4['Broad.phase.of.flight'].value_counts()"
   ]
  },
  {
   "cell_type": "code",
   "execution_count": null,
   "id": "ccb86638-95dc-4d3d-a11b-322fb04f8509",
   "metadata": {},
   "outputs": [],
   "source": [
    "#create a category to for missing data\n",
    "aviation_cleaned_copy4['Broad.phase.of.flight'] = aviation_cleaned_copy4['Broad.phase.of.flight'].fillna('Missing')"
   ]
  },
  {
   "cell_type": "code",
   "execution_count": null,
   "id": "8daf0357-cd42-4f1c-8cfb-b5b3b8a29a5c",
   "metadata": {},
   "outputs": [],
   "source": [
    "#plot graph to show distribution of when incidents occur\n",
    "\n",
    "plt.figure(figsize=(12, 8))\n",
    "sns.countplot(data=aviation_cleaned_copy4, x='Broad.phase.of.flight', palette='viridis')\n",
    "plt.title('Distribution of Phase of Flight')\n",
    "plt.xlabel('Phase of Flight')\n",
    "plt.ylabel('Count')\n",
    "plt.xticks(rotation = 90);\n"
   ]
  },
  {
   "cell_type": "markdown",
   "id": "dd020232-c013-4fdf-ba49-24df01591313",
   "metadata": {},
   "source": [
    "It is important to note that majority of this data is missing. It might therefore not provide a clear picture for interpretation. "
   ]
  },
  {
   "cell_type": "code",
   "execution_count": null,
   "id": "b67b6691-d787-4035-bc9a-2ad27624e1f2",
   "metadata": {},
   "outputs": [],
   "source": []
  },
  {
   "cell_type": "markdown",
   "id": "b3ea77fd-1747-4d12-b88a-d0945ba28ddb",
   "metadata": {},
   "source": [
    "### **Question 5:** *What is the distribution of Weather Conditions when Incidents occur?*"
   ]
  },
  {
   "cell_type": "code",
   "execution_count": null,
   "id": "115b9b04-ff95-49c6-8d9d-58f8e1bd2e27",
   "metadata": {},
   "outputs": [],
   "source": [
    "aviation_cleaned_copy5 = aviation_cleaned_copy4.copy()\n",
    "aviation_cleaned_copy5['Weather.Condition'].value_counts()"
   ]
  },
  {
   "cell_type": "code",
   "execution_count": null,
   "id": "69b75081-5e29-4773-ba8c-9ca0e0dead8f",
   "metadata": {},
   "outputs": [],
   "source": [
    "#we notice that 5% of our data for the Weather condition is missing. While it is not substantial, it is a good number. \n",
    "aviation_cleaned_copy5['Weather.Condition'].isnull().sum() / len(aviation_cleaned_copy5['Weather.Condition'])*100 # find % of missing data"
   ]
  },
  {
   "cell_type": "markdown",
   "id": "ec1412dc-6d23-424c-8362-18537213ca6a",
   "metadata": {},
   "source": [
    "`IMC (Incident Meteorological Conditions)` - refers to weather conditions where pilots are not allowed to fly on their own, hence require use of instruments, typically cloudy or low visibility. \n",
    "`VMC (Visual Meteorological Conditions)` - refers to weather conditions under which pilots have sufficient visibility to fly aircraft relying on visual references."
   ]
  },
  {
   "cell_type": "markdown",
   "id": "f0715c41-8c04-44c2-a631-0e2bec54c5ce",
   "metadata": {},
   "source": [
    "It is important to notice that we have (`UNK` and `Unk`)  as 2 separate entries. I decided to capitalize everything and thus have them as the same\n",
    "category. For this assessment, I am going to assume that `UNK` refers to `UNKOWN` as I did not find it's definition anywhere.\n",
    "Now, to deal with missing values, I decided to have a separate category for them\n"
   ]
  },
  {
   "cell_type": "code",
   "execution_count": null,
   "id": "4e867b44-2569-4ac4-a8de-5edc4b3e9cb3",
   "metadata": {},
   "outputs": [],
   "source": [
    "# convert strings into uppercase for uniformity\n",
    "aviation_cleaned_copy5.loc[:, 'Weather.Condition'] = aviation_cleaned_copy5['Weather.Condition'].str.upper()\n",
    "\n",
    "aviation_cleaned_copy5['Weather.Condition'].unique()"
   ]
  },
  {
   "cell_type": "code",
   "execution_count": null,
   "id": "eb93fe6f-c332-46df-92e1-239ea66579d9",
   "metadata": {},
   "outputs": [],
   "source": [
    "aviation_cleaned_copy5['Weather.Condition'] = aviation_cleaned_copy5['Weather.Condition'].fillna('Missing')"
   ]
  },
  {
   "cell_type": "code",
   "execution_count": null,
   "id": "0452e7b4-fd1f-4795-9ab6-c3c8e1af5e8e",
   "metadata": {},
   "outputs": [],
   "source": [
    "#plot graph to show distribtion of weather patterns during the occurrence of incidents\n",
    "\n",
    "plt.figure(figsize=(12, 8))\n",
    "sns.countplot(data=aviation_cleaned_copy5, x='Weather.Condition', palette='viridis')\n",
    "plt.title('Distribution of Weather Conditions')\n",
    "plt.xlabel('Weather Condition')\n",
    "plt.ylabel('Count');\n"
   ]
  },
  {
   "cell_type": "markdown",
   "id": "8e041731-ea25-400d-8032-ff6d0e00f9cc",
   "metadata": {},
   "source": [
    "Most Incidents/Accidents occurred in VMC. This would be ideal conditions for flights, it is therefore investigating further on what would be contributing to such high incident/accident frequency."
   ]
  },
  {
   "cell_type": "code",
   "execution_count": null,
   "id": "251f5681-a87b-4ed8-bd95-ba27ecea508e",
   "metadata": {},
   "outputs": [],
   "source": [
    "#plot distribution of incidents and taking weather conditions into account\n",
    "plt.figure(figsize=(12,8))\n",
    "# Merge the two DataFrames on 'Make' and 'Model'\n",
    "merged_weather= pd.merge(incident_counts, aviation_cleaned_copy5, on=['Make', 'Model'])\n",
    "# Sort by 'Incident Count' and select the lowest 20\n",
    "lowest_20_incidents = merged_weather.sort_values(by='Incident.Count').head(20)\n",
    "\n",
    "# Combine 'Make' and 'Model' into a single column for better visualization\n",
    "lowest_20_incidents['Make/Model'] = lowest_20_incidents['Make'] + ' ' + lowest_20_incidents['Model']\n",
    "\n",
    "# Plot the bar plot\n",
    "sns.barplot(x='Incident.Count', y='Make/Model',hue='Weather.Condition', data=lowest_20_incidents, palette='viridis');\n",
    "plt.title('Number of Incidents per Make/Model by Weather Conditions')\n",
    "plt.xlabel('Number of Incidents')\n",
    "plt.ylabel('Make/Model of Aircraft')\n",
    "plt.legend(title='Weather Condition');\n",
    "plt.xlim(0, 5);"
   ]
  },
  {
   "cell_type": "markdown",
   "id": "63fd9fc8-b520-43fd-9741-dbbfad305d38",
   "metadata": {},
   "source": [
    "The graph above shows the lowest 20 Make/Model combinations by incident Count and the weather conditions under which their accidents/incidents occurred."
   ]
  },
  {
   "cell_type": "markdown",
   "id": "76ab69ed-b653-4673-ab32-3a323051690d",
   "metadata": {},
   "source": [
    "### **Question 6:** *What is the Risk Score of each Make/Model Combination?*"
   ]
  },
  {
   "cell_type": "markdown",
   "id": "8bb53716-fa5a-4179-9e57-6e1393d7c034",
   "metadata": {},
   "source": [
    "The European Aviation Safety Agency (EASA) developed the European Risk Classification Scheme (ERCS) methodology, designed to risk-classify all reported occurrences. This methodology calculates risk  by taking in two variables: Severity and Likelihood of Occurrence(how often similar incidents occur). \n",
    "To get the likelihood of occurrence, we count the number of incidents for each 'Make' and 'Model' combination. More frequent incidents imply higher likelihood."
   ]
  },
  {
   "cell_type": "code",
   "execution_count": null,
   "id": "9a69a352-1552-43ca-b046-cada8f906484",
   "metadata": {},
   "outputs": [],
   "source": [
    "aviation_cleaned_copy6 = aviation_cleaned_copy5.copy()\n",
    "\n",
    "#fill missing values with 0, in injuries columns\n",
    "columns_to_fill = ['Total.Fatal.Injuries', 'Total.Serious.Injuries', 'Total.Minor.Injuries', 'Total.Uninjured']\n",
    "aviation_cleaned_copy6[columns_to_fill ] = aviation_cleaned_copy6[columns_to_fill ].fillna(0)"
   ]
  },
  {
   "cell_type": "code",
   "execution_count": null,
   "id": "89f7a212-fac6-4788-8fb4-b79b6a8618f7",
   "metadata": {},
   "outputs": [],
   "source": [
    "'''The following function calculates the severity score by taking into account the total number of people and weighted injuries. \n",
    "This approach normalizes the score and avoids negative scores while also taking into account the uninjured. This is because if no fatalities are\n",
    "recorded,it is slightly less severe than in the case of fatalities'''\n",
    "\n",
    "def calculate_risk_score(row):\n",
    "    total_people = (row['Total.Fatal.Injuries'] + \n",
    "                    row['Total.Serious.Injuries'] + \n",
    "                    row['Total.Minor.Injuries'] + \n",
    "                    row['Total.Uninjured'])\n",
    "    \n",
    "    if total_people == 0:\n",
    "        return 0  # Avoid division by zero\n",
    "    \n",
    "    # Calculate the weighted sum of injuries\n",
    "    weighted_injuries = (row['Total.Fatal.Injuries'] * 10 + \n",
    "                         row['Total.Serious.Injuries'] * 5 + \n",
    "                         row['Total.Minor.Injuries'] * 1 +\n",
    "                         row['Total.Uninjured'] * 0.5\n",
    "                        )\n",
    "    \n",
    "    # Calculate the risk score as a proportion of the total\n",
    "    severity_score = weighted_injuries / total_people\n",
    "    \n",
    "    return severity_score\n",
    "\n",
    "# Apply the function to the dataframe\n",
    "aviation_cleaned_copy6['Severity.Score'] = aviation_cleaned_copy6.apply(calculate_risk_score, axis=1)\n",
    "\n",
    "# Check the results\n",
    "# aviation_cleaned_copy6[['Total.Fatal.Injuries', 'Total.Serious.Injuries', 'Total.Minor.Injuries', 'Total.Uninjured', 'Severity.Score']].head(10)\n"
   ]
  },
  {
   "cell_type": "code",
   "execution_count": null,
   "id": "dd27331f-6607-4438-ab3c-bd07ab46ad56",
   "metadata": {},
   "outputs": [],
   "source": [
    "\n",
    "# Merge counts back into the main DataFrame\n",
    "aviation_cleaned_copy6 = aviation_cleaned_copy6.merge(incident_counts, on=['Make', 'Model'])\n",
    "\n",
    "# Normalize incident counts to likelihood scores between 1 and 5\n",
    "aviation_cleaned_copy6['Likelihood.Score'] = pd.cut(aviation_cleaned_copy6['Incident.Count'], bins=5, labels=[1, 2, 3, 4, 5]).astype(int)\n"
   ]
  },
  {
   "cell_type": "code",
   "execution_count": null,
   "id": "948986ae-9111-4c04-8b7d-b02d98361c47",
   "metadata": {},
   "outputs": [],
   "source": [
    "# Calculate the ERCS score\n",
    "aviation_cleaned_copy6['ERCS.Score'] = aviation_cleaned_copy6['Severity.Score'] * aviation_cleaned_copy6['Likelihood.Score']\n"
   ]
  },
  {
   "cell_type": "code",
   "execution_count": null,
   "id": "712ccfc4-9370-4d0e-bf57-6afb840cf7e7",
   "metadata": {},
   "outputs": [],
   "source": [
    "aviation_cleaned_copy6.tail()"
   ]
  },
  {
   "cell_type": "code",
   "execution_count": null,
   "id": "e2c305dc-66c0-4f17-9bf3-92d54439e265",
   "metadata": {},
   "outputs": [],
   "source": [
    "# Create a boxplot of ERCS scores\n",
    "# Plot histogram of ERCS scores\n",
    "plt.figure(figsize=(8, 6))\n",
    "plt.hist(aviation_cleaned_copy6['ERCS.Score'], bins=20, color='skyblue', edgecolor='black')\n",
    "plt.title('Distribution of ERCS Scores')\n",
    "plt.xlabel('ERCS Score')\n",
    "plt.ylabel('Frequency')\n",
    "plt.ylim(0, 3760)\n",
    "plt.grid(True);\n"
   ]
  },
  {
   "cell_type": "markdown",
   "id": "6a73258e-1997-4209-8e29-46a87a704228",
   "metadata": {},
   "source": [
    "From the graph above, we notice that most planes have an ERCS score of below 10, Implying that they carry a lower risk. Moreover, there are outliers with very high scores. From this, it would be advisable to invest in any aircraft with an ERCS score of less than 10."
   ]
  },
  {
   "cell_type": "markdown",
   "id": "c18b1bd8-965b-4c89-b523-350a86b9ab6b",
   "metadata": {},
   "source": [
    "## 6. Exploratory Data Analysis"
   ]
  },
  {
   "cell_type": "markdown",
   "id": "42bf2cb4-93a3-412e-89f0-5c553cf55707",
   "metadata": {},
   "source": [
    " Since we have quite a large number of datapoints, I decided to Group the ERCS scores into `Low`, `Medium` and `High` for easier analysis."
   ]
  },
  {
   "cell_type": "code",
   "execution_count": null,
   "id": "bcc526c5-48dc-4e77-986c-372bd9827eee",
   "metadata": {},
   "outputs": [],
   "source": [
    "# Define cutoff points for risk categories\n",
    "low_threshold = 10\n",
    "high_threshold = 30\n",
    "\n",
    "# Function to categorize ERCS scores\n",
    "def categorize_ercs(score):\n",
    "    if score < low_threshold:\n",
    "        return 'Low Risk'\n",
    "    elif score < high_threshold:\n",
    "        return 'Medium Risk'\n",
    "    else:\n",
    "        return 'High Risk'\n",
    "\n",
    "# Apply categorization function to create a new column\n",
    "aviation_cleaned_copy6['Risk.Category'] = aviation_cleaned_copy6['ERCS.Score'].apply(categorize_ercs)\n",
    "aviation_cleaned_copy6.head()\n"
   ]
  },
  {
   "cell_type": "code",
   "execution_count": null,
   "id": "3f649f10-b950-4f1e-9dae-8cc97895beef",
   "metadata": {},
   "outputs": [],
   "source": [
    "'''Here, I am combining risk factors number of incidents, ERCS score and Risk  Category to \n",
    "    further drill down the risk profile'''\n",
    "#plot ERCS score per Make/Model\n",
    "plt.figure(figsize = (10,8))\n",
    "\n",
    "#create a make/model column\n",
    "low_20_ercs = aviation_cleaned_copy6.sort_values(by='Incident.Count').head(20)\n",
    "low_20_ercs['Make/Model'] = low_20_ercs['Make'] + ' ' + low_20_ercs['Model']\n",
    "\n",
    "#plot the barplot\n",
    "sns.barplot(x = 'ERCS.Score', y='Make/Model',  hue = 'Risk.Category', data = low_20_ercs, palette ='viridis', orient='h')\n",
    "plt.title('Make/Model by ERCS ')\n",
    "plt.ylabel('Make/Model')\n",
    "plt.xlabel('ERCS Score')\n",
    "\n",
    "plt.xticks(rotation=90);\n",
    "# plt.legend();"
   ]
  },
  {
   "cell_type": "markdown",
   "id": "f4e03d3b-d0e0-4b63-8056-cb9f81363133",
   "metadata": {},
   "source": [
    "From the above graph, we now have a better picture than before on what the company could invest in, i.e., those in Low Risk category."
   ]
  },
  {
   "cell_type": "markdown",
   "id": "f617eb74-230e-4551-b0b0-dfe369f85c2d",
   "metadata": {},
   "source": [
    "We notice that quite a number of Make/Model combinations have an ERCS score of 0 (i.e `1278` records). They contribute to 1.44% of our dataset. \n",
    "\n",
    "Upon inspection, I noticed that they have no values for `Total.Fatal.Injuries`, `Total.Serious.Injuries`,`Total.Minor.Injuries` and `Total.Uninjured` columns. Since this columns are important and relevant in computing the ERCS score, I decided to drop records where all these columns were 0. "
   ]
  },
  {
   "cell_type": "code",
   "execution_count": null,
   "id": "60c57cf7-335b-4598-b444-2a155f280123",
   "metadata": {},
   "outputs": [],
   "source": [
    "# aviation_cleaned_copy6.shape"
   ]
  },
  {
   "cell_type": "code",
   "execution_count": null,
   "id": "b154e7e4-1c9d-4873-9370-da997b501db8",
   "metadata": {},
   "outputs": [],
   "source": [
    "# Check if the sum of the specified columns is equal to 0 for each row\n",
    "# Check if each of the specified columns is equal to 0 for each row\n",
    "mask = ((aviation_cleaned_copy6['Total.Fatal.Injuries'] == 0) &\n",
    "        (aviation_cleaned_copy6['Total.Serious.Injuries'] == 0) &\n",
    "        (aviation_cleaned_copy6['Total.Minor.Injuries'] == 0) &\n",
    "        (aviation_cleaned_copy6['Total.Uninjured'] == 0))\n",
    "\n",
    "# Filter out rows where all specified columns are 0\n",
    "aviation_filtered = aviation_cleaned_copy6[~mask]\n",
    "# Filter out rows where the sum of the specified columns is equal to 0.\n",
    "'''Here, the (~) operator signifies the not python operator. Thus for this case we are remaining with the data with no 0 values for either of \n",
    "the columns'''\n",
    "aviation_filtered = aviation_cleaned_copy6[~mask]\n",
    "\n",
    "# Save the filtered DataFrame back to a CSV file for use in visualization in tableau.\n",
    "aviation_filtered.to_csv('filtered_aviation_data.csv', index=False)"
   ]
  },
  {
   "cell_type": "code",
   "execution_count": null,
   "id": "e4c933b5-9aaa-42f1-b888-dab51ec5fe7e",
   "metadata": {},
   "outputs": [],
   "source": [
    "#check dataframe structure after dropping records with null values in the ERCS score column\n",
    "# aviation_filtered.shape\n",
    "\n",
    "x = aviation_filtered['ERCS.Score'] == 0\n",
    "x.sum()"
   ]
  },
  {
   "cell_type": "code",
   "execution_count": null,
   "id": "d109e42c-a6d2-4eba-be48-8ac928bb26fd",
   "metadata": {},
   "outputs": [],
   "source": [
    "#plot graph to show the datset distribution of Risk categories\n",
    "plt.figure(figsize = (10,8))\n",
    "\n",
    "# sns.barplot(x = 'Risk.Category', y = 'Incident.Count', data = aviation_cleaned_copy6, palette='viridis')\n",
    "sns.boxplot(x = 'Risk.Category', y = 'Incident.Count', data=aviation_filtered)\n",
    "plt.title('Risk Category Distribution by number of Incidents')\n",
    "plt.xlabel ('Risk Category')\n",
    "plt.ylabel('Incident Count');\n"
   ]
  },
  {
   "cell_type": "code",
   "execution_count": null,
   "id": "c1978ea4-e13a-414f-bf23-8a9f5eef292f",
   "metadata": {},
   "outputs": [],
   "source": [
    "#plot Make/Model Vs ERCS score \n",
    "\n",
    "# Creating a copy to work for this analysis\n",
    "aviation_filtered1 = aviation_filtered.copy()\n",
    "\n",
    "# Combine Make and Model columns into a single column\n",
    "aviation_filtered1['Make_Model'] = aviation_filtered['Make'] + ' ' + aviation_filtered['Model']\n",
    "\n",
    "# Group by the combined Make/Model column and calculate the mean ERCS\n",
    "make_model_ercs = aviation_filtered1.groupby('Make_Model')['ERCS.Score'].mean().reset_index()\n",
    "\n",
    "# Sort the values for better visualization\n",
    "make_model_ercs = make_model_ercs.sort_values(by='ERCS.Score').head(20)\n",
    "\n",
    "# Plot the results\n",
    "plt.figure(figsize=(14, 8))\n",
    "sns.barplot(x='ERCS.Score', y='Make_Model', data=make_model_ercs, palette='viridis')\n",
    "plt.title('Mean ERCS Score per Make/Model')\n",
    "plt.xlabel('Mean ERCS')\n",
    "plt.ylabel('Make/Model')\n",
    "plt.xlim(0,5)\n",
    "plt.show()"
   ]
  },
  {
   "cell_type": "markdown",
   "id": "bb086e30-bba8-4ca2-a3ab-70e087de1b76",
   "metadata": {},
   "source": [
    "## 7. Conclusions"
   ]
  },
  {
   "cell_type": "markdown",
   "id": "c293516a-5fdb-44f9-b6d9-1bb48d21f436",
   "metadata": {},
   "source": [
    "1. Most aircraft Accidents/Incidents occurred during VMC(Visual Meteorological Conditions).\n",
    "2. Most aircraft incidents/accidents per Make/Model with lower risk have similar incident frequencies and risk scores making it difficult to select just one or two.\n",
    "3. Most aircrafts sustain substantial damage in the event of an accident."
   ]
  },
  {
   "cell_type": "markdown",
   "id": "9aea1524-2c22-4971-923a-4743a4798703",
   "metadata": {},
   "source": [
    "## 8. Recommendations"
   ]
  },
  {
   "cell_type": "markdown",
   "id": "aba086d0-98e7-4893-ab32-949eebe192ba",
   "metadata": {},
   "source": [
    "1. Given that VMC is recommended for flying, further investigation should be carried out as to what else could be contributing to this high accidents rate.\n",
    "2. Conduct further research into the lower risk category of Make/Model combinations and find other considerations e.g.,initial cost of investment.\n",
    "3. Conduct further investigation as to whether there's correllation between aircraft damage and manufacture or maintenance procedures."
   ]
  },
  {
   "cell_type": "code",
   "execution_count": null,
   "id": "b8400e6a-c73b-4fef-9477-c6ce8c560335",
   "metadata": {},
   "outputs": [],
   "source": []
  }
 ],
 "metadata": {
  "kernelspec": {
   "display_name": "Python (learn-env)",
   "language": "python",
   "name": "learn-env"
  },
  "language_info": {
   "codemirror_mode": {
    "name": "ipython",
    "version": 3
   },
   "file_extension": ".py",
   "mimetype": "text/x-python",
   "name": "python",
   "nbconvert_exporter": "python",
   "pygments_lexer": "ipython3",
   "version": "3.11.9"
  }
 },
 "nbformat": 4,
 "nbformat_minor": 5
}
